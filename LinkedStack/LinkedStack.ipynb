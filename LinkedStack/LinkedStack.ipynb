{
 "cells": [
  {
   "cell_type": "code",
   "execution_count": 22,
   "metadata": {},
   "outputs": [],
   "source": [
    "class LinkedStack:\n",
    "                                                                #########Linked Stack#######\n",
    "    class _Node:                                                ###### -------------- ######\n",
    "        __slots__='_element','_next'                            # Node |Elemenet|Next|     #\n",
    "                                                                #       -------------      #\n",
    "        def __init__(self,element,next):                        #Head:                     #\n",
    "            self._element=element                               ###########################\n",
    "            self._next=next                                       \n",
    "    \n",
    "    def __init__(self):\n",
    "        self._head=None\n",
    "        self._size=0\n",
    "    \n",
    "    def __len__(self):\n",
    "        return self._size\n",
    "    \n",
    "    def _isEmpty(self):\n",
    "        return self._size==0\n",
    "    \n",
    "    def push(self,e):\n",
    "        self._head=self._Node(e,self._head)\n",
    "        self._size+=1\n",
    "    \n",
    "    def pop(self):\n",
    "        if (self._isEmpty()):\n",
    "            raise Empty('Stack is Empty')\n",
    "        value=self._head._element\n",
    "        self._head=self._head._next\n",
    "        self._size-=1\n",
    "        return value\n",
    "    \n",
    "    def top(self):\n",
    "        if self._isEmpty():\n",
    "            raise Empty('Stack is Empty')\n",
    "        return self._head._element\n",
    "    \n",
    "    def display(self):\n",
    "        temp=self._head\n",
    "        while temp:\n",
    "            print(temp._element,end='-->')\n",
    "            temp=temp._next\n",
    "        print()\n",
    "\n"
   ]
  },
  {
   "cell_type": "code",
   "execution_count": 23,
   "metadata": {},
   "outputs": [
    {
     "name": "stdout",
     "output_type": "stream",
     "text": [
      "63-->65-->87-->89-->\n",
      "63\n"
     ]
    }
   ],
   "source": [
    "ls=LinkedStack()\n",
    "ls.push(89)\n",
    "ls.push(87)\n",
    "ls.push(65)\n",
    "ls.push(63)\n",
    "\n",
    "\n",
    "\n",
    "print(ls.pop())\n",
    "#print(ls.pop())\n",
    "\n",
    "ls.display()\n",
    "\n",
    "print(ls.top())\n",
    "\n"
   ]
  },
  {
   "cell_type": "code",
   "execution_count": 24,
   "metadata": {},
   "outputs": [
    {
     "data": {
      "text/plain": [
       "4"
      ]
     },
     "execution_count": 24,
     "metadata": {},
     "output_type": "execute_result"
    }
   ],
   "source": []
  },
  {
   "cell_type": "code",
   "execution_count": null,
   "metadata": {},
   "outputs": [],
   "source": []
  }
 ],
 "metadata": {
  "kernelspec": {
   "display_name": "Python 3",
   "language": "python",
   "name": "python3"
  },
  "language_info": {
   "codemirror_mode": {
    "name": "ipython",
    "version": 3
   },
   "file_extension": ".py",
   "mimetype": "text/x-python",
   "name": "python",
   "nbconvert_exporter": "python",
   "pygments_lexer": "ipython3",
   "version": "3.7.4"
  }
 },
 "nbformat": 4,
 "nbformat_minor": 2
}
