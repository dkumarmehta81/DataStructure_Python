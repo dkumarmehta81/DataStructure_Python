{
 "cells": [
  {
   "cell_type": "code",
   "execution_count": 1,
   "metadata": {},
   "outputs": [],
   "source": [
    "#proerties and methods forms a central entity called class\n",
    "#class is an abstraction of some entity which consist common set of properties and methods\n",
    "#object is a specific instance of a class\n",
    "#self is object to access properties and methods\n",
    "class Human:\n",
    "    def __init__(self,n,o):\n",
    "        self.name=n\n",
    "        self.occupation=o\n",
    "    def do_work(self):\n",
    "        if self.occupation==\"Tennis\":\n",
    "            print(self.name,\"playes Tennis\")\n",
    "        elif self.occupation==\"Actor\":\n",
    "            print(self.name,\"shoots films\")\n",
    "    def speak(self):\n",
    "        print(self.name,\"say hi, how r u\")\n",
    "\n",
    "        "
   ]
  },
  {
   "cell_type": "code",
   "execution_count": 2,
   "metadata": {},
   "outputs": [],
   "source": [
    "deepak=Human(\"deepak\",\"Actor\")"
   ]
  },
  {
   "cell_type": "code",
   "execution_count": 3,
   "metadata": {},
   "outputs": [
    {
     "name": "stdout",
     "output_type": "stream",
     "text": [
      "deepak shoots films\n"
     ]
    }
   ],
   "source": [
    "deepak.do_work()"
   ]
  },
  {
   "cell_type": "code",
   "execution_count": 4,
   "metadata": {},
   "outputs": [
    {
     "name": "stdout",
     "output_type": "stream",
     "text": [
      "deepak say hi, how r u\n"
     ]
    }
   ],
   "source": [
    "deepak.speak()"
   ]
  },
  {
   "cell_type": "code",
   "execution_count": null,
   "metadata": {},
   "outputs": [],
   "source": []
  }
 ],
 "metadata": {
  "kernelspec": {
   "display_name": "Python 3",
   "language": "python",
   "name": "python3"
  },
  "language_info": {
   "codemirror_mode": {
    "name": "ipython",
    "version": 3
   },
   "file_extension": ".py",
   "mimetype": "text/x-python",
   "name": "python",
   "nbconvert_exporter": "python",
   "pygments_lexer": "ipython3",
   "version": "3.7.4"
  }
 },
 "nbformat": 4,
 "nbformat_minor": 2
}
